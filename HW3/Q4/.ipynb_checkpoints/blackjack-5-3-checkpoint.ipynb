{
 "cells": [
  {
   "cell_type": "code",
   "execution_count": 1,
   "metadata": {
    "collapsed": true
   },
   "outputs": [],
   "source": [
    "import numpy as np\n",
    "import matplotlib.pyplot as plt\n",
    "from random import randint, choice\n",
    "import seaborn as sns\n",
    "from mpl_toolkits.mplot3d import Axes3D\n",
    "from matplotlib.ticker import LinearLocator, FormatStrFormatter\n",
    "\n",
    "from matplotlib import cm\n",
    "%matplotlib inline"
   ]
  },
  {
   "cell_type": "code",
   "execution_count": 2,
   "metadata": {
    "collapsed": true
   },
   "outputs": [],
   "source": [
    "actions = {'hit' : 1, 'stick' : 0}\n",
    "rewards = {'win' : 1, 'lose' : -1, 'draw' : 0}\n",
    "\n",
    "policy_dealer = np.ones(22, dtype=int)\n",
    "for i in range(17, 22, 1):\n",
    "    policy_dealer[i] = actions['stick']"
   ]
  },
  {
   "cell_type": "code",
   "execution_count": 3,
   "metadata": {
    "collapsed": true
   },
   "outputs": [],
   "source": [
    "def get_card():\n",
    "    card = randint(2, 14)\n",
    "    if card == 14:\n",
    "        return 11\n",
    "    else:\n",
    "        return min(10, card)\n",
    "    \n",
    "def init_state():\n",
    "    dealer_card_1 = get_card()\n",
    "    usable_ace = bool(randint(0, 1))\n",
    "    player_sum = randint(2, 21)\n",
    "    action = randint(0, 1)\n",
    "    dealer_card_2 = get_card()\n",
    "    \n",
    "    return (player_sum, dealer_card_1, dealer_card_2, usable_ace, action)\n",
    "\n",
    "# the behavioural policy is a random policy\n",
    "def behavioural_policy():\n",
    "    return choice([0, 1])\n",
    "\n",
    "# target policy sticks when score is 20 or more\n",
    "def target_policy(player_sum):\n",
    "    if player_sum >= 20:\n",
    "        return actions['stick']\n",
    "    else:\n",
    "        return actions['hit']"
   ]
  },
  {
   "cell_type": "code",
   "execution_count": 4,
   "metadata": {
    "collapsed": true
   },
   "outputs": [],
   "source": [
    "def generate_episode():\n",
    "    \n",
    "    player_sum, dealer_card_1, dealer_card_2, player_usable_ace, action = (13, 1, 1, True, actions['hit'])\n",
    "    \n",
    "    dealer_sum = dealer_card_1 + dealer_card_2\n",
    "    dealer_usable_ace = int(dealer_card_1 == 11) + int(dealer_card_2 == 11)\n",
    "    \n",
    "    if dealer_sum > 21:\n",
    "        dealer_sum -= 10\n",
    "        dealer_usable_ace -= 1\n",
    "    \n",
    "    player_episode = []\n",
    "    \n",
    "    player_episode.append((player_sum, action))\n",
    "    \n",
    "    if player_sum == 21:\n",
    "        if dealer_sum == 21:\n",
    "            return player_episode, 0\n",
    "        else:\n",
    "            return player_episode, 1\n",
    "    \n",
    "    while True:\n",
    "        \n",
    "        if action == actions['stick']:\n",
    "            break\n",
    "            \n",
    "        card = get_card()\n",
    "        if card == 11:\n",
    "            player_usable_ace += 1\n",
    "        player_sum += card\n",
    "        \n",
    "        # User might have multiple aces due to infinite deck\n",
    "        while player_sum > 21 and player_usable_ace:\n",
    "            player_sum -= 10\n",
    "            player_usable_ace -= 1\n",
    "        \n",
    "        if player_sum > 21:\n",
    "            return player_episode, -1\n",
    "        \n",
    "        action = behavioural_policy()\n",
    "        player_episode.append((player_sum, action))\n",
    "        \n",
    "    while True:\n",
    "        action = policy_dealer[dealer_sum]\n",
    "        if action == actions['stick']:\n",
    "            break\n",
    "            \n",
    "        card = get_card()\n",
    "        if card == 11:\n",
    "            dealer_usable_ace += 1\n",
    "        dealer_sum += card\n",
    "        \n",
    "        while dealer_sum > 21 and dealer_usable_ace:\n",
    "            dealer_sum -= 10\n",
    "            dealer_usable_ace -= 1\n",
    "        \n",
    "        if dealer_sum > 21:\n",
    "            return player_episode, 1\n",
    "        \n",
    "    if player_sum > dealer_sum:\n",
    "        return player_episode, 1\n",
    "    elif player_sum == dealer_sum:\n",
    "        return player_episode, 0\n",
    "    else:\n",
    "        return player_episode, -1\n",
    "        "
   ]
  },
  {
   "cell_type": "code",
   "execution_count": 5,
   "metadata": {
    "collapsed": true
   },
   "outputs": [],
   "source": [
    "def monte_carlo(num_episodes):\n",
    "    \n",
    "    weighted_importance = np.zeros(num_episodes)\n",
    "    ordinary_importance = np.zeros(num_episodes)\n",
    "    rhosum = 0\n",
    "    for i in range(num_episodes):\n",
    "        player_episode, reward = generate_episode()\n",
    "\n",
    "        num = 1.0\n",
    "        den = 1.0\n",
    "        for player_sum, action in player_episode:\n",
    "            if action != target_policy(player_sum):\n",
    "                num = 0 # This would have 0 probability of occuring under the target policy\n",
    "            else:\n",
    "                den *= 0.5 # By means of the random policy followed by behavioural policy\n",
    "        rho = num/den\n",
    "        rhosum += rho\n",
    "        \n",
    "        \n",
    "        # Use previous values of ordinary and weighted importance to calculate the new value\n",
    "        if i == 0:\n",
    "            ordinary_importance[i] = rho * reward\n",
    "            weighted_importance[i] = reward\n",
    "        else:\n",
    "            ordinary_importance[i] = (ordinary_importance[i-1]*i + rho*reward)/(i+1)\n",
    "            if rhosum != 0:\n",
    "                weighted_importance[i] = (weighted_importance[i-1]*(rhosum-rho) + rho*reward)/rhosum\n",
    "            else:\n",
    "                weighted_importance[i] = 0\n",
    "\n",
    "    return ordinary_importance, weighted_importance\n",
    "\n",
    "def plot_5_3():\n",
    "    num_episodes = 10000\n",
    "    error_ordinary_importance = np.zeros(num_episodes)\n",
    "    error_weighted_importance = np.zeros(num_episodes)\n",
    "    true_value = -0.27726\n",
    "    num_runs = 100\n",
    "    for i in range(num_runs):\n",
    "        ordinary_importance, weighted_importance = monte_carlo(num_episodes)\n",
    "        error_ordinary_importance += np.power(ordinary_importance - true_value, 2)\n",
    "        error_weighted_importance += np.power(weighted_importance - true_value, 2)\n",
    "    error_ordinary_importance /= num_runs\n",
    "    error_weighted_importance /= num_runs\n",
    "\n",
    "    plt.plot(error_ordinary_importance, label='Ordinary Importance Sampling')\n",
    "    plt.plot(error_weighted_importance, label='Weighted Importance Sampling')\n",
    "    plt.xlabel('Episodes (log scale)')\n",
    "    plt.ylabel('Mean square error')\n",
    "    plt.ylim(0, 5)\n",
    "    plt.xscale('log')\n",
    "    plt.legend()\n",
    "    plt.show()"
   ]
  },
  {
   "cell_type": "code",
   "execution_count": 6,
   "metadata": {},
   "outputs": [
    {
     "data": {
      "image/png": "[encoded data removed]",
      "text/plain": [
       "<Figure size 432x288 with 1 Axes>"
      ]
     },
     "metadata": {
      "needs_background": "light"
     },
     "output_type": "display_data"
    }
   ],
   "source": [
    "plot_5_3()"
   ]
  }
 ],
 "metadata": {
  "kernelspec": {
   "display_name": "Python 3",
   "language": "python",
   "name": "python3"
  },
  "language_info": {
   "codemirror_mode": {
    "name": "ipython",
    "version": 3
   },
   "file_extension": ".py",
   "mimetype": "text/x-python",
   "name": "python",
   "nbconvert_exporter": "python",
   "pygments_lexer": "ipython3",
   "version": "3.6.3"
  }
 },
 "nbformat": 4,
 "nbformat_minor": 2
}
