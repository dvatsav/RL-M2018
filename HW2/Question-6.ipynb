{
 "cells": [
  {
   "cell_type": "code",
   "execution_count": 145,
   "metadata": {
    "collapsed": true
   },
   "outputs": [],
   "source": [
    "from copy import deepcopy\n",
    "import numpy as np"
   ]
  },
  {
   "cell_type": "code",
   "execution_count": 146,
   "metadata": {
    "collapsed": true
   },
   "outputs": [],
   "source": [
    "discount_factor = 1\n",
    "n = 4\n",
    "action_names = {'-1' : 'g', '0' : 'l', '1' : 'u', '2' : 'r', '3' : 'd'}\n",
    "actions = [(0, -1), (-1, 0), (0, 1), (1,0)]\n",
    "values = np.zeros((n, n))\n",
    "policy = np.zeros((n, n), dtype=int)\n",
    "policy[0][0] = -1\n",
    "policy[n-1][n-1] = -1"
   ]
  },
  {
   "cell_type": "code",
   "execution_count": 147,
   "metadata": {},
   "outputs": [],
   "source": [
    "\"\"\"\n",
    "* Policy Iteration Method\n",
    "\"\"\"\n",
    "\n",
    "def evaluate_policy():\n",
    "    \n",
    "    theta = 2\n",
    "    while True:\n",
    "        delta = 0\n",
    "        for i in range(n):\n",
    "            for j in range(n):\n",
    "                old_value_s = values[i, j]\n",
    "                if policy[i, j] != -1:\n",
    "                    action = actions[policy[i,j]]\n",
    "                    reward = -1.0\n",
    "                    if i + action[0] < 0 or i + action[0] >= n or j + action[1] < 0 or j + action[1] >= n: # Check bounds after checking for A and B\n",
    "                        x,y = i,j\n",
    "                    else:\n",
    "                        x,y = i + action[0], j + action[1]    \n",
    "                    values[i, j] = (reward + discount_factor * (values[x, y]))\n",
    "                \n",
    "                delta = max(delta, np.abs(old_value_s - values[i, j]))\n",
    "        if delta < theta:\n",
    "            break\n",
    "    return values\n",
    "        \n",
    "def improve_policy():\n",
    "    stable = True\n",
    "    for i in range(n):\n",
    "        for j in range(n):\n",
    "            if policy[i, j] != -1:\n",
    "                old_policy = policy[i, j]\n",
    "                max_return = -np.inf\n",
    "                best_action = actions[old_policy]\n",
    "                for action in actions:\n",
    "                    reward = -1.0\n",
    "                    if i + action[0] < 0 or i + action[0] >= n or j + action[1] < 0 or j + action[1] >= n: # Check bounds after checking for A and B\n",
    "                        x,y = i,j\n",
    "                    else:\n",
    "                        x,y = i + action[0], j + action[1]    \n",
    "                    expected_return = (reward + discount_factor * (values[x, y]))\n",
    "                    if expected_return > max_return:\n",
    "                        max_return = expected_return\n",
    "                        best_action = action\n",
    "\n",
    "                policy[i, j] = actions.index(best_action)\n",
    "\n",
    "                if policy[i, j] != old_policy:\n",
    "                    stable = False\n",
    "    return not stable"
   ]
  },
  {
   "cell_type": "code",
   "execution_count": 148,
   "metadata": {},
   "outputs": [],
   "source": [
    "values = evaluate_policy()\n",
    "while (improve_policy()):\n",
    "    values = evaluate_policy()"
   ]
  },
  {
   "cell_type": "code",
   "execution_count": 149,
   "metadata": {},
   "outputs": [],
   "source": [
    "policy = policy.tolist()\n",
    "for i in range(n):\n",
    "    for j in range(n):\n",
    "        policy[i][j] = action_names[str(policy[i][j])]"
   ]
  },
  {
   "cell_type": "code",
   "execution_count": 150,
   "metadata": {},
   "outputs": [
    {
     "data": {
      "text/plain": [
       "[['g', 'l', 'l', 'l'],\n",
       " ['u', 'l', 'l', 'd'],\n",
       " ['u', 'l', 'r', 'd'],\n",
       " ['u', 'r', 'r', 'g']]"
      ]
     },
     "execution_count": 150,
     "metadata": {},
     "output_type": "execute_result"
    }
   ],
   "source": [
    "policy"
   ]
  },
  {
   "cell_type": "code",
   "execution_count": 151,
   "metadata": {},
   "outputs": [
    {
     "data": {
      "text/plain": [
       "array([[ 0., -1., -2., -3.],\n",
       "       [-1., -2., -3., -2.],\n",
       "       [-2., -3., -2., -1.],\n",
       "       [-3., -2., -1.,  0.]])"
      ]
     },
     "execution_count": 151,
     "metadata": {},
     "output_type": "execute_result"
    }
   ],
   "source": [
    "values"
   ]
  },
  {
   "cell_type": "code",
   "execution_count": 159,
   "metadata": {
    "collapsed": true
   },
   "outputs": [],
   "source": [
    "\"\"\"\n",
    "* Value Iteration\n",
    "\"\"\"\n",
    "\n",
    "values = np.zeros((n, n))\n",
    "policy = np.zeros((n, n), dtype=int)\n",
    "policy[0][0] = -1\n",
    "policy[n-1][n-1] = -1"
   ]
  },
  {
   "cell_type": "code",
   "execution_count": 160,
   "metadata": {},
   "outputs": [],
   "source": [
    "theta = 1e-4\n",
    "\n",
    "while True:\n",
    "    delta = 0\n",
    "    for i in range(n):\n",
    "        for j in range(n):\n",
    "            if policy[i, j] != -1:\n",
    "                old_value = values[i, j]\n",
    "                max_return = -np.inf\n",
    "                best_action = actions[policy[i, j]]\n",
    "                for action in actions:\n",
    "                    reward = -1.0\n",
    "                    if i + action[0] < 0 or i + action[0] >= n or j + action[1] < 0 or j + action[1] >= n: # Check bounds after checking for A and B\n",
    "                        x,y = i,j\n",
    "                    else:\n",
    "                        x,y = i + action[0], j + action[1]\n",
    "                    expected_return = (reward + discount_factor * (values[x, y]))\n",
    "                    \n",
    "                    if expected_return > max_return:\n",
    "                        max_return = expected_return\n",
    "                        best_action = action\n",
    "                        \n",
    "                values[i, j] = max_return\n",
    "                policy[i, j] = actions.index(best_action)\n",
    "                \n",
    "                delta = max(delta, np.abs(old_value - values[i, j]))\n",
    "    if delta < theta:\n",
    "        break"
   ]
  },
  {
   "cell_type": "code",
   "execution_count": 161,
   "metadata": {
    "collapsed": true
   },
   "outputs": [],
   "source": [
    "policy = policy.tolist()\n",
    "for i in range(n):\n",
    "    for j in range(n):\n",
    "        policy[i][j] = action_names[str(policy[i][j])]"
   ]
  },
  {
   "cell_type": "code",
   "execution_count": 162,
   "metadata": {},
   "outputs": [
    {
     "data": {
      "text/plain": [
       "array([[ 0., -1., -2., -3.],\n",
       "       [-1., -2., -3., -2.],\n",
       "       [-2., -3., -2., -1.],\n",
       "       [-3., -2., -1.,  0.]])"
      ]
     },
     "execution_count": 162,
     "metadata": {},
     "output_type": "execute_result"
    }
   ],
   "source": [
    "values"
   ]
  },
  {
   "cell_type": "code",
   "execution_count": 163,
   "metadata": {},
   "outputs": [
    {
     "data": {
      "text/plain": [
       "[['g', 'l', 'l', 'l'],\n",
       " ['u', 'l', 'l', 'd'],\n",
       " ['u', 'l', 'r', 'd'],\n",
       " ['u', 'r', 'r', 'g']]"
      ]
     },
     "execution_count": 163,
     "metadata": {},
     "output_type": "execute_result"
    }
   ],
   "source": [
    "policy"
   ]
  },
  {
   "cell_type": "code",
   "execution_count": null,
   "metadata": {
    "collapsed": true
   },
   "outputs": [],
   "source": []
  }
 ],
 "metadata": {
  "kernelspec": {
   "display_name": "Python 3",
   "language": "python",
   "name": "python3"
  },
  "language_info": {
   "codemirror_mode": {
    "name": "ipython",
    "version": 3
   },
   "file_extension": ".py",
   "mimetype": "text/x-python",
   "name": "python",
   "nbconvert_exporter": "python",
   "pygments_lexer": "ipython3",
   "version": "3.6.3"
  }
 },
 "nbformat": 4,
 "nbformat_minor": 2
}
