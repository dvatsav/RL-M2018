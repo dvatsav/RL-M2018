{
 "cells": [
  {
   "cell_type": "code",
   "execution_count": 1,
   "metadata": {
    "collapsed": true
   },
   "outputs": [],
   "source": [
    "from copy import deepcopy\n",
    "import numpy as np"
   ]
  },
  {
   "cell_type": "code",
   "execution_count": 3,
   "metadata": {
    "collapsed": true
   },
   "outputs": [],
   "source": [
    "gamma = 0.9\n",
    "A = (0, 1)\n",
    "B = (0, 3)\n",
    "A1 = (4, 1)\n",
    "B1 = (2, 3)\n",
    "n = 5\n",
    "action_prob = 0.25\n",
    "actions = [(0, -1), (-1, 0), (0, 1), (1,0)]"
   ]
  },
  {
   "cell_type": "code",
   "execution_count": 79,
   "metadata": {
    "collapsed": true
   },
   "outputs": [],
   "source": [
    "\"\"\"\n",
    "* Iterative Policy Evaluation\n",
    "\"\"\"\n",
    "\n",
    "grid = np.zeros((n, n))\n",
    "\n",
    "delta = 1e-4\n",
    "diff = 1000\n",
    "while diff > delta:\n",
    "    updated_grid = np.zeros((n, n))\n",
    "    for i in range(n):\n",
    "        for j in range(n):\n",
    "            for action in actions: # four actions possible\n",
    "                if (i,j) == A: # Give priority to A and B since all moves are valid here regardless of bounds\n",
    "                    reward = 10.0\n",
    "                    x,y = A1\n",
    "                elif (i,j) == B:\n",
    "                    reward = 5.0\n",
    "                    x,y = B1\n",
    "                elif i + action[0] < 0 or i + action[0] >= n or j + action[1] < 0 or j + action[1] >= n: # Check bounds after checking for A and B\n",
    "                    reward = -1.0\n",
    "                    x,y = i,j\n",
    "                else:\n",
    "                    reward = 0\n",
    "                    x,y = i + action[0], j + action[1]\n",
    "                # Bellman's equation\n",
    "                updated_grid[i, j] += action_prob * (reward + discount_factor * (grid[x, y]))\n",
    "    diff = np.abs(np.sum(np.subtract(updated_grid, grid)))\n",
    "    grid = updated_grid"
   ]
  },
  {
   "cell_type": "code",
   "execution_count": 80,
   "metadata": {},
   "outputs": [
    {
     "name": "stdout",
     "output_type": "stream",
     "text": [
      "[[ 3.34272157  8.84372389  4.44576697  5.3190761   1.45822692]\n",
      " [ 1.53777135  3.01122407  2.25566481  1.89549017  0.5194595 ]\n",
      " [ 0.0633836   0.75612253  0.68114792  0.36458507 -0.40578213]\n",
      " [-0.94280557 -0.40529398 -0.31704735 -0.55222868 -1.14679789]\n",
      " [-1.81145445 -1.29372315 -1.17484598 -1.36177894 -1.91283037]]\n"
     ]
    }
   ],
   "source": [
    "print (grid)"
   ]
  },
  {
   "cell_type": "code",
   "execution_count": 19,
   "metadata": {},
   "outputs": [],
   "source": [
    "\"\"\"\n",
    "* System of Linear Equations\n",
    "* We can model Bellman's Equation as a system of linear equations with an equation for each state. We can model this as\n",
    "* V_pi = R_pi + gamma* P_pi * V_pi, where P_pi is the state transition matrix. We can find V_pi as (1-gamma*P_pi)^-1 * R_pi\n",
    "* First we will initialize values that make up the MDP\n",
    "\"\"\"\n",
    "\n",
    "R_pi = np.zeros((n*n, 1))\n",
    "P_pi = np.zeros((n*n, n*n))\n",
    "identity = np.identity(n*n, dtype=float)\n",
    "\n",
    "# Set up rewards\n",
    "for i in range(n):\n",
    "    for j in range(n):\n",
    "        R_pi[i*n+j] = 0\n",
    "        if (i, j) == A:\n",
    "            R_pi[i*n+j] = 10.0\n",
    "        elif (i, j) == B:\n",
    "            R_pi[i*n+j] = 5.0\n",
    "        else:\n",
    "            R_up = 0\n",
    "            R_down = 0\n",
    "            R_left = 0\n",
    "            R_right = 0\n",
    "            if i - 1 < 0:\n",
    "                R_up = -1\n",
    "            if i + 1 >= n:\n",
    "                R_down = -1\n",
    "            if j + 1 >= n:\n",
    "                R_right = -1\n",
    "            if j - 1 < 0:\n",
    "                R_left = -1\n",
    "            R_pi[i*n+j] = 0.25 * (R_up + R_down + R_right + R_left)\n",
    "\n",
    "# Set up the transition matrix\n",
    "# For A and B, probability that the agent will move from A to A1 and B to B1 will be 1 since all actions move the agent to A1\n",
    "# B1\n",
    "\n",
    "# For positions on the border of the grid, the agent may stay in the same position depending on the number of sides of the square\n",
    "# that are common with the boundary (this is stored in border count)\n",
    "\n",
    "for i in range(n):\n",
    "    for j in range(n):\n",
    "        up = i-1\n",
    "        down = i+1\n",
    "        right = j+1\n",
    "        left = j-1\n",
    "        bordercount = 0\n",
    "        if (i, j) == A:\n",
    "            P_pi[i*n+j][A1[0]*n+A1[1]] = 1\n",
    "        elif (i, j) == B:\n",
    "            P_pi[i*n+j][B1[0]*n+B1[1]] = 1\n",
    "        else:\n",
    "            if up < 0:\n",
    "                bordercount += 1\n",
    "            else:\n",
    "                P_pi[i*n+j][(i-1)*n+j] = 0.25\n",
    "            if left < 0:\n",
    "                bordercount += 1\n",
    "            else:\n",
    "                P_pi[i*n+j][i*n+(j-1)] = 0.25\n",
    "            if right >= n:\n",
    "                bordercount += 1\n",
    "            else:\n",
    "                P_pi[i*n+j][i*n+(j+1)] = 0.25\n",
    "            if down >= n:\n",
    "                bordercount += 1\n",
    "            else:\n",
    "                P_pi[i*n+j][(i+1)*n+j] = 0.25\n",
    "\n",
    "        P_pi[i*n+j][i*n+j] = 0.25 * bordercount\n",
    "            \n",
    "V_pi = np.matmul(np.linalg.inv(identity - gamma*P_pi), R_pi)"
   ]
  },
  {
   "cell_type": "code",
   "execution_count": 18,
   "metadata": {},
   "outputs": [
    {
     "name": "stdout",
     "output_type": "stream",
     "text": [
      "[[ 3.30899634  8.78929186  4.42761918  5.32236759  1.49217876]\n",
      " [ 1.52158807  2.99231786  2.25013995  1.9075717   0.54740271]\n",
      " [ 0.05082249  0.73817059  0.67311326  0.35818621 -0.40314114]\n",
      " [-0.9735923  -0.43549543 -0.35488227 -0.58560509 -1.18307508]\n",
      " [-1.85770055 -1.34523126 -1.22926726 -1.42291815 -1.97517905]]\n"
     ]
    }
   ],
   "source": [
    "print (V_pi.reshape((n,n)))"
   ]
  },
  {
   "cell_type": "code",
   "execution_count": null,
   "metadata": {
    "collapsed": true
   },
   "outputs": [],
   "source": []
  }
 ],
 "metadata": {
  "kernelspec": {
   "display_name": "Python 3",
   "language": "python",
   "name": "python3"
  },
  "language_info": {
   "codemirror_mode": {
    "name": "ipython",
    "version": 3
   },
   "file_extension": ".py",
   "mimetype": "text/x-python",
   "name": "python",
   "nbconvert_exporter": "python",
   "pygments_lexer": "ipython3",
   "version": "3.6.3"
  }
 },
 "nbformat": 4,
 "nbformat_minor": 2
}
