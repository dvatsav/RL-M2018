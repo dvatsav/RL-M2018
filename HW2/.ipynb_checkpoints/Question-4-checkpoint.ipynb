{
 "cells": [
  {
   "cell_type": "code",
   "execution_count": 2,
   "metadata": {
    "collapsed": true
   },
   "outputs": [],
   "source": [
    "from copy import deepcopy\n",
    "import numpy as np"
   ]
  },
  {
   "cell_type": "code",
   "execution_count": 3,
   "metadata": {
    "collapsed": true
   },
   "outputs": [],
   "source": [
    "discount_factor = 0.9\n",
    "A = (0, 1)\n",
    "B = (0, 3)\n",
    "A1 = (4, 1)\n",
    "B1 = (2, 3)\n",
    "n = 5\n",
    "actions = [(0, -1), (-1, 0), (0, 1), (1,0)]"
   ]
  },
  {
   "cell_type": "code",
   "execution_count": 4,
   "metadata": {},
   "outputs": [],
   "source": [
    "\"\"\"\n",
    "* Iterative Value evaluation\n",
    "\"\"\"\n",
    "\n",
    "grid = np.zeros((n, n))\n",
    "\n",
    "delta = 1e-4\n",
    "diff = 1000\n",
    "while diff > delta:\n",
    "    updated_grid = np.zeros((n, n))\n",
    "    for i in range(n):\n",
    "        for j in range(n):\n",
    "            maxvalue = 0\n",
    "            for action in actions: # four actions possible\n",
    "                if (i,j) == A: # Give priority to A and B since all moves are valid here regardless of bounds\n",
    "                    reward = 10.0\n",
    "                    x,y = A1\n",
    "                elif (i,j) == B:\n",
    "                    reward = 5.0\n",
    "                    x,y = B1\n",
    "                elif i + action[0] < 0 or i + action[0] >= n or j + action[1] < 0 or j + action[1] >= n: # Check bounds after checking for A and B\n",
    "                    reward = -1.0\n",
    "                    x,y = i,j\n",
    "                else:\n",
    "                    reward = 0\n",
    "                    x,y = i + action[0], j + action[1]\n",
    "                # Bellman's equation\n",
    "                maxvalue = max(maxvalue, (reward + discount_factor * (grid[x, y])))\n",
    "            updated_grid[i, j] += maxvalue\n",
    "    diff = np.abs(np.sum(np.subtract(updated_grid, grid)))\n",
    "    grid = updated_grid"
   ]
  },
  {
   "cell_type": "code",
   "execution_count": 5,
   "metadata": {},
   "outputs": [
    {
     "name": "stdout",
     "output_type": "stream",
     "text": [
      "[[21.97744338 24.41938153 21.97744338 19.41938153 17.47744338]\n",
      " [19.77969904 21.97744338 19.77969904 17.80172914 16.02153504]\n",
      " [17.80172914 19.77969904 17.80172914 16.02153504 14.41938153]\n",
      " [16.02153504 17.80172914 16.02153504 14.41938153 12.97744338]\n",
      " [14.41938153 16.02153504 14.41938153 12.97744338 11.67969904]]\n"
     ]
    }
   ],
   "source": [
    "print (grid)"
   ]
  },
  {
   "cell_type": "code",
   "execution_count": null,
   "metadata": {
    "collapsed": true
   },
   "outputs": [],
   "source": []
  }
 ],
 "metadata": {
  "kernelspec": {
   "display_name": "Python 3",
   "language": "python",
   "name": "python3"
  },
  "language_info": {
   "codemirror_mode": {
    "name": "ipython",
    "version": 3
   },
   "file_extension": ".py",
   "mimetype": "text/x-python",
   "name": "python",
   "nbconvert_exporter": "python",
   "pygments_lexer": "ipython3",
   "version": "3.6.3"
  }
 },
 "nbformat": 4,
 "nbformat_minor": 2
}
